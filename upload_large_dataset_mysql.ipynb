{
 "cells": [
  {
   "cell_type": "code",
   "execution_count": null,
   "id": "f928434a",
   "metadata": {},
   "outputs": [
    {
     "data": {
      "text/plain": [
       "'\\nimport pandas as pd\\nfrom sqlalchemy import create_engine\\n\\n# Load your dataset\\ndf = pd.read_csv(\"your_dataset.csv\")  # or use pd.read_excel(\"your_dataset.xlsx\")\\ndf.columns = df.columns.str.replace(\" \", \"_\")\\ndf.columns = df.columns.str.replace(\" \", \"_\")\\ndf.columns = df.columns.str.strip().str.lower().str.replace(\" \", \"_\")\\n# MySQL connection string\\nengine = create_engine(\\'mysql+mysqlconnector://root:<password>@localhost:3306/<database_name>\\')\\n\\n# Save the DataFrame to MySQL (auto creates table if not exists)\\ndf.to_sql(name=\\'table_name\\', con=engine, if_exists=\\'replace\\', index=False)\\n\\nprint(\"Data inserted successfully!\")\\n\\n'"
      ]
     },
     "execution_count": 3,
     "metadata": {},
     "output_type": "execute_result"
    }
   ],
   "source": [
    "\n",
    "'''\n",
    "import pandas as pd\n",
    "from sqlalchemy import create_engine\n",
    "\n",
    "# Load your dataset\n",
    "df = pd.read_csv(\"your_dataset.csv\")  # or use pd.read_excel(\"your_dataset.xlsx\")\n",
    "df.columns = df.columns.str.replace(\" \", \"_\")\n",
    "df.columns = df.columns.str.replace(\" \", \"_\")\n",
    "df.columns = df.columns.str.strip().str.lower().str.replace(\" \", \"_\")\n",
    "# MySQL connection string\n",
    "engine = create_engine('mysql+mysqlconnector://root:<password>@localhost:3306/<database_name>')\n",
    "\n",
    "# Save the DataFrame to MySQL (auto creates table if not exists)\n",
    "df.to_sql(name='table_name', con=engine, if_exists='replace', index=False)\n",
    "\n",
    "print(\"Data inserted successfully!\")\n",
    "\n",
    "'''\n",
    "\n",
    "#comment out the above code if you want to run it\n"
   ]
  },
  {
   "cell_type": "code",
   "execution_count": null,
   "id": "1ef1afd6",
   "metadata": {},
   "outputs": [],
   "source": []
  }
 ],
 "metadata": {
  "kernelspec": {
   "display_name": "Python 3",
   "language": "python",
   "name": "python3"
  },
  "language_info": {
   "codemirror_mode": {
    "name": "ipython",
    "version": 3
   },
   "file_extension": ".py",
   "mimetype": "text/x-python",
   "name": "python",
   "nbconvert_exporter": "python",
   "pygments_lexer": "ipython3",
   "version": "3.12.0"
  }
 },
 "nbformat": 4,
 "nbformat_minor": 5
}
